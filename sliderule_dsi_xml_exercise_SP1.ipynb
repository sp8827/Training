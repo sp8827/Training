{
 "cells": [
  {
   "cell_type": "markdown",
   "metadata": {},
   "source": [
    "# XML example and exercise\n",
    "****\n",
    "+ study examples of accessing nodes in XML tree structure  \n",
    "+ work on exercise to be completed and submitted\n",
    "****\n",
    "+ reference: https://docs.python.org/2.7/library/xml.etree.elementtree.html\n",
    "+ data source: http://www.dbis.informatik.uni-goettingen.de/Mondial\n",
    "****"
   ]
  },
  {
   "cell_type": "code",
   "execution_count": 24,
   "metadata": {
    "collapsed": true
   },
   "outputs": [],
   "source": [
    "from xml.etree import ElementTree as ET"
   ]
  },
  {
   "cell_type": "markdown",
   "metadata": {},
   "source": [
    "## XML example\n",
    "\n",
    "+ for details about tree traversal and iterators, see https://docs.python.org/2.7/library/xml.etree.elementtree.html"
   ]
  },
  {
   "cell_type": "code",
   "execution_count": 25,
   "metadata": {
    "collapsed": true
   },
   "outputs": [],
   "source": [
    "document_tree = ET.parse( './data/mondial_database_less.xml' )"
   ]
  },
  {
   "cell_type": "code",
   "execution_count": 30,
   "metadata": {
    "collapsed": false
   },
   "outputs": [
    {
     "name": "stdout",
     "output_type": "stream",
     "text": [
      "Albania\n",
      "Greece\n",
      "Macedonia\n",
      "Serbia\n",
      "Montenegro\n",
      "Kosovo\n",
      "Andorra\n"
     ]
    }
   ],
   "source": [
    "# print names of all countries\n",
    "for child in document_tree.getroot():\n",
    "    print (child.find('name').text)"
   ]
  },
  {
   "cell_type": "code",
   "execution_count": 29,
   "metadata": {
    "collapsed": false
   },
   "outputs": [
    {
     "name": "stdout",
     "output_type": "stream",
     "text": [
      "* Albania:\n",
      "Tirana, Shkodër, Durrës, Vlorë, Elbasan, Korçë\n",
      "* Greece:\n",
      "Komotini, Kavala, Athina, Peiraias, Peristeri, Acharnes, Patra, Kozani, Kerkyra, Ioannina, Thessaloniki, Iraklio, Chania, Ermoupoli, Rhodes, Tripoli, Lamia, Chalkida, Larissa, Volos, Mytilini, Karyes\n",
      "* Macedonia:\n",
      "Skopje, Kumanovo\n",
      "* Serbia:\n",
      "Beograd, Novi Sad, Niš\n",
      "* Montenegro:\n",
      "Podgorica\n",
      "* Kosovo:\n",
      "Prishtine\n",
      "* Andorra:\n",
      "Andorra la Vella\n"
     ]
    }
   ],
   "source": [
    "# print names of all countries and their cities\n",
    "for element in document_tree.iterfind('country'):\n",
    "    print ('* ' + element.find('name').text + ':'),\n",
    "    capitals_string = ''\n",
    "    for subelement in element.getiterator('city'):\n",
    "        capitals_string += subelement.find('name').text + ', '\n",
    "    print (capitals_string[:-2])"
   ]
  },
  {
   "cell_type": "markdown",
   "metadata": {},
   "source": [
    "****\n",
    "## XML exercise\n",
    "\n",
    "Using data in 'data/mondial_database.xml', the examples above, and refering to https://docs.python.org/2.7/library/xml.etree.elementtree.html, find\n",
    "\n",
    "1. 10 countries with the lowest infant mortality rates\n",
    "2. 10 cities with the largest population\n",
    "3. 10 ethnic groups with the largest overall populations (sum of best/latest estimates over all countries)\n",
    "4. name and country of a) longest river, b) largest lake and c) airport at highest elevation"
   ]
  },
  {
   "cell_type": "code",
   "execution_count": 32,
   "metadata": {
    "collapsed": true
   },
   "outputs": [],
   "source": [
    "document = ET.parse( './data/mondial_database.xml' )"
   ]
  },
  {
   "cell_type": "code",
   "execution_count": 46,
   "metadata": {
    "collapsed": false
   },
   "outputs": [],
   "source": [
    "from xml.etree import ElementTree as ET\n",
    "import pandas as pd\n",
    "import numpy as np\n",
    "from pandas import DataFrame"
   ]
  },
  {
   "cell_type": "code",
   "execution_count": 37,
   "metadata": {
    "collapsed": false
   },
   "outputs": [
    {
     "data": {
      "text/html": [
       "<div>\n",
       "<table border=\"1\" class=\"dataframe\">\n",
       "  <thead>\n",
       "    <tr style=\"text-align: right;\">\n",
       "      <th></th>\n",
       "      <th>id</th>\n",
       "      <th>name</th>\n",
       "      <th>population_2011</th>\n",
       "    </tr>\n",
       "  </thead>\n",
       "  <tbody>\n",
       "    <tr>\n",
       "      <th>1527</th>\n",
       "      <td>cty-India-2</td>\n",
       "      <td>Mumbai</td>\n",
       "      <td>12442373.0</td>\n",
       "    </tr>\n",
       "    <tr>\n",
       "      <th>1582</th>\n",
       "      <td>cty-India-New-Delhi</td>\n",
       "      <td>Delhi</td>\n",
       "      <td>11034555.0</td>\n",
       "    </tr>\n",
       "    <tr>\n",
       "      <th>1515</th>\n",
       "      <td>cty-India-Bangalore</td>\n",
       "      <td>Bangalore</td>\n",
       "      <td>8443675.0</td>\n",
       "    </tr>\n",
       "    <tr>\n",
       "      <th>1000</th>\n",
       "      <td>cty-United-Kingdom-2</td>\n",
       "      <td>London</td>\n",
       "      <td>8250205.0</td>\n",
       "    </tr>\n",
       "    <tr>\n",
       "      <th>1382</th>\n",
       "      <td>cty-Iran-Tehran</td>\n",
       "      <td>Tehran</td>\n",
       "      <td>8154051.0</td>\n",
       "    </tr>\n",
       "    <tr>\n",
       "      <th>1470</th>\n",
       "      <td>cty-BD-3</td>\n",
       "      <td>Dhaka</td>\n",
       "      <td>7423137.0</td>\n",
       "    </tr>\n",
       "    <tr>\n",
       "      <th>1591</th>\n",
       "      <td>cty-India-7</td>\n",
       "      <td>Hyderabad</td>\n",
       "      <td>6731790.0</td>\n",
       "    </tr>\n",
       "    <tr>\n",
       "      <th>1505</th>\n",
       "      <td>cty-India-8</td>\n",
       "      <td>Ahmadabad</td>\n",
       "      <td>5577940.0</td>\n",
       "    </tr>\n",
       "    <tr>\n",
       "      <th>3056</th>\n",
       "      <td>cty-Angola-Luanda</td>\n",
       "      <td>Luanda</td>\n",
       "      <td>5000000.0</td>\n",
       "    </tr>\n",
       "    <tr>\n",
       "      <th>1556</th>\n",
       "      <td>cty-India-Madras</td>\n",
       "      <td>Chennai</td>\n",
       "      <td>4646732.0</td>\n",
       "    </tr>\n",
       "  </tbody>\n",
       "</table>\n",
       "</div>"
      ],
      "text/plain": [
       "                        id       name  population_2011\n",
       "1527           cty-India-2     Mumbai       12442373.0\n",
       "1582   cty-India-New-Delhi      Delhi       11034555.0\n",
       "1515   cty-India-Bangalore  Bangalore        8443675.0\n",
       "1000  cty-United-Kingdom-2     London        8250205.0\n",
       "1382       cty-Iran-Tehran     Tehran        8154051.0\n",
       "1470              cty-BD-3      Dhaka        7423137.0\n",
       "1591           cty-India-7  Hyderabad        6731790.0\n",
       "1505           cty-India-8  Ahmadabad        5577940.0\n",
       "3056     cty-Angola-Luanda     Luanda        5000000.0\n",
       "1556      cty-India-Madras    Chennai        4646732.0"
      ]
     },
     "execution_count": 37,
     "metadata": {},
     "output_type": "execute_result"
    }
   ],
   "source": [
    "# 10 cities with the largest population\n",
    "\n",
    "list = []\n",
    "for city in document.findall('.//city'):\n",
    "    name = city.find('name')\n",
    "    if  name is None:\n",
    "        name = np.nan\n",
    "    else:\n",
    "        name = name.text\n",
    "    population = city.find('population[@year=\"2011\"]') \n",
    "    if population is None:\n",
    "        population = np.nan\n",
    "    else:\n",
    "        population = int(population.text)\n",
    "    list.append([city.attrib['id'],name, population])\n",
    "df = pd.DataFrame(list, columns=['id', 'name', 'population_2011'])\n",
    "df.sort_values('population_2011', ascending=False).head(10)"
   ]
  },
  {
   "cell_type": "code",
   "execution_count": null,
   "metadata": {
    "collapsed": true
   },
   "outputs": [],
   "source": [
    "# 10 ethnic groups with the largest overall populations (sum of best/latest estimates over all countries)"
   ]
  },
  {
   "cell_type": "code",
   "execution_count": 38,
   "metadata": {
    "collapsed": false
   },
   "outputs": [
    {
     "name": "stdout",
     "output_type": "stream",
     "text": [
      "                               0\n",
      "Han Chinese     1,245,058,800.00\n",
      "Indo-Aryan        871,815,583.44\n",
      "European          494,872,219.72\n",
      "African           318,325,120.37\n",
      "Dravidian         302,713,744.25\n",
      "Mestizo           157,734,354.94\n",
      "Bengali           146,776,916.72\n",
      "Russian           131,856,996.08\n",
      "Japanese          126,534,212.00\n",
      "Malay             121,993,550.37\n"
     ]
    }
   ],
   "source": [
    "ethnicgroups = dict()\n",
    "for country in document.iterfind('country'):\n",
    "    populations = []\n",
    "    for population in country.findall('population'):\n",
    "        populations.append((int(population.get('year')), int(population.text)))\n",
    "    max_population = max(populations)[1]\n",
    "    for ethnicgroup in country.findall('ethnicgroup'):\n",
    "        population_ethnic_group = (float(ethnicgroup.get('percentage')) * max_population / 100)\n",
    "        ethnicgroups[ethnicgroup.text] = ethnicgroups.setdefault(ethnicgroup.text, 0) + population_ethnic_group\n",
    "df = pd.DataFrame.from_dict(ethnicgroups, orient='index')\n",
    "pd.options.display.float_format = '{:20,.2f}'.format\n",
    "sorted_df = df.sort_values([0],ascending=False).head(10)\n",
    "print(sorted_df)"
   ]
  },
  {
   "cell_type": "code",
   "execution_count": null,
   "metadata": {
    "collapsed": true
   },
   "outputs": [],
   "source": [
    "# name and country of a) longest river, b) largest lake and c) airport at highest elevation"
   ]
  },
  {
   "cell_type": "code",
   "execution_count": 40,
   "metadata": {
    "collapsed": false
   },
   "outputs": [
    {
     "name": "stdout",
     "output_type": "stream",
     "text": [
      "Longest River:\n",
      "\t Name: Amazonas Country: Colombia Length: 6448.0\n",
      "Largest Lake:\n",
      "\t Name: Caspian Sea Country: Russia Area: 386400.0\n",
      "Highest airport:\n",
      "\t Name: El Alto Intl Country: Bolivia Elevation: 4063.0\n"
     ]
    }
   ],
   "source": [
    "code_to_country_dict = {}\n",
    "for country in document.iterfind('country'):\n",
    "    code_to_country_dict[country.get('car_code')] = country.find('name').text\n",
    "\n",
    "rivers = []\n",
    "for river in document.iterfind('river'):\n",
    "    for country in river.get('country').split():\n",
    "        length = river.find('length')\n",
    "        if length is None:\n",
    "            length = np.nan\n",
    "        else:\n",
    "            length = float(length.text)\n",
    "        rivers.append([river.find('name').text, length, code_to_country_dict[country]])\n",
    "river_df = pd.DataFrame(rivers, columns=['name', 'length', 'country'])\n",
    "\n",
    "lakes = []\n",
    "for lake in document.iterfind('lake'):\n",
    "    for country in lake.get('country').split():\n",
    "        area = lake.find('area')\n",
    "        if area is None:\n",
    "            area = np.nan\n",
    "        else:\n",
    "            area = float(area.text)\n",
    "        lakes.append([lake.find('name').text, area, code_to_country_dict[country]])\n",
    "lake_df = pd.DataFrame(lakes, columns=['name', 'area', 'country'])\n",
    "\n",
    "airports = []\n",
    "for airport in document.iterfind('airport'):\n",
    "    for country in airport.get('country').split():\n",
    "        elevation = airport.find('elevation')\n",
    "        if elevation is None or elevation.text is None:\n",
    "            continue\n",
    "        else:\n",
    "            elevation = float(elevation.text)\n",
    "        airports.append([airport.find('name').text, elevation, code_to_country_dict[country]])\n",
    "airport_df = pd.DataFrame(airports, columns=['name', 'elevation', 'country'])\n",
    "\n",
    "max_river = river_df.loc[river_df['length'].idxmax()]\n",
    "print (\"Longest River:\\n\\t Name: {} Country: {} Length: {}\".format(max_river['name'], max_river['country'], max_river['length']))\n",
    "\n",
    "max_lake = lake_df.loc[lake_df['area'].idxmax()]\n",
    "print (\"Largest Lake:\\n\\t Name: {} Country: {} Area: {}\".format(max_lake['name'], max_lake['country'], max_lake['area']))\n",
    "\n",
    "max_airport = airport_df.loc[airport_df['elevation'].idxmax()]\n",
    "print (\"Highest airport:\\n\\t Name: {} Country: {} Elevation: {}\".format(max_airport['name'], max_airport['country'], max_airport['elevation']))"
   ]
  },
  {
   "cell_type": "code",
   "execution_count": null,
   "metadata": {
    "collapsed": true
   },
   "outputs": [],
   "source": []
  }
 ],
 "metadata": {
  "kernelspec": {
   "display_name": "Python 3",
   "language": "python",
   "name": "python3"
  },
  "language_info": {
   "codemirror_mode": {
    "name": "ipython",
    "version": 3
   },
   "file_extension": ".py",
   "mimetype": "text/x-python",
   "name": "python",
   "nbconvert_exporter": "python",
   "pygments_lexer": "ipython3",
   "version": "3.6.0"
  }
 },
 "nbformat": 4,
 "nbformat_minor": 0
}
