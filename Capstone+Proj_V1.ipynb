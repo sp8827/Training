{
 "cells": [
  {
   "cell_type": "code",
   "execution_count": 51,
   "metadata": {
    "collapsed": false
   },
   "outputs": [],
   "source": [
    "import pandas as pd\n",
    "import matplotlib.pyplot as plt\n",
    "import seaborn as sns\n",
    "import numpy as np\n",
    "import scipy.stats as st\n",
    "import math\n",
    "import random as randn\n",
    "import datetime\n",
    "from pandas import Series, DataFrame\n",
    "%matplotlib inline"
   ]
  },
  {
   "cell_type": "code",
   "execution_count": 52,
   "metadata": {
    "collapsed": true
   },
   "outputs": [],
   "source": [
    "# Oil Production and Performance Data"
   ]
  },
  {
   "cell_type": "code",
   "execution_count": 19,
   "metadata": {
    "collapsed": true
   },
   "outputs": [],
   "source": [
    "df = pd.read_csv('/Users/Priya/Desktop/Capstone Project SB/Data_Capstone Project.csv')"
   ]
  },
  {
   "cell_type": "code",
   "execution_count": 21,
   "metadata": {
    "collapsed": false
   },
   "outputs": [
    {
     "data": {
      "text/html": [
       "<div>\n",
       "<table border=\"1\" class=\"dataframe\">\n",
       "  <thead>\n",
       "    <tr style=\"text-align: right;\">\n",
       "      <th></th>\n",
       "      <th>DATE</th>\n",
       "      <th>ASSET</th>\n",
       "      <th>UWI</th>\n",
       "      <th>FACILITYID</th>\n",
       "      <th>FACILITYNAME</th>\n",
       "      <th>FACILITYTYPE</th>\n",
       "      <th>FIELDCODE</th>\n",
       "      <th>FIELDNAME</th>\n",
       "      <th>FIELDRESCODE</th>\n",
       "      <th>RESERVOIRCODE</th>\n",
       "      <th>...</th>\n",
       "      <th>WELLTYPE</th>\n",
       "      <th>X</th>\n",
       "      <th>Y</th>\n",
       "      <th>BOTTOMDEPTH</th>\n",
       "      <th>TOPDEPTH</th>\n",
       "      <th>LENGTH</th>\n",
       "      <th>INNERDIAMETER</th>\n",
       "      <th>OUTERDIAMETER</th>\n",
       "      <th>CURRENTSTATUS</th>\n",
       "      <th>WELLCOMPLETIONS</th>\n",
       "    </tr>\n",
       "  </thead>\n",
       "  <tbody>\n",
       "    <tr>\n",
       "      <th>0</th>\n",
       "      <td>12/1/55</td>\n",
       "      <td>Avengers</td>\n",
       "      <td>IM-0001</td>\n",
       "      <td>1</td>\n",
       "      <td>C</td>\n",
       "      <td>CASING</td>\n",
       "      <td>IM</td>\n",
       "      <td>IronMan</td>\n",
       "      <td>IMZU</td>\n",
       "      <td>MZSD</td>\n",
       "      <td>...</td>\n",
       "      <td>Oil Well</td>\n",
       "      <td>764038.29</td>\n",
       "      <td>3309483.4</td>\n",
       "      <td>10006.0</td>\n",
       "      <td>9940.0</td>\n",
       "      <td>66.0</td>\n",
       "      <td>6.094</td>\n",
       "      <td>7.0</td>\n",
       "      <td>CLOSED</td>\n",
       "      <td>863725</td>\n",
       "    </tr>\n",
       "    <tr>\n",
       "      <th>1</th>\n",
       "      <td>12/1/55</td>\n",
       "      <td>Avengers</td>\n",
       "      <td>IM-0001</td>\n",
       "      <td>1</td>\n",
       "      <td>T</td>\n",
       "      <td>TUBING</td>\n",
       "      <td>IM</td>\n",
       "      <td>IronMan</td>\n",
       "      <td>IMZU</td>\n",
       "      <td>UZSD</td>\n",
       "      <td>...</td>\n",
       "      <td>Oil Well</td>\n",
       "      <td>764038.29</td>\n",
       "      <td>3309483.4</td>\n",
       "      <td>9447.0</td>\n",
       "      <td>9238.0</td>\n",
       "      <td>209.0</td>\n",
       "      <td>6.184</td>\n",
       "      <td>7.0</td>\n",
       "      <td>CLOSED</td>\n",
       "      <td>867459</td>\n",
       "    </tr>\n",
       "    <tr>\n",
       "      <th>2</th>\n",
       "      <td>1/1/56</td>\n",
       "      <td>Avengers</td>\n",
       "      <td>IM-0001</td>\n",
       "      <td>1</td>\n",
       "      <td>T</td>\n",
       "      <td>TUBING</td>\n",
       "      <td>IM</td>\n",
       "      <td>IronMan</td>\n",
       "      <td>IMZU</td>\n",
       "      <td>UZSD</td>\n",
       "      <td>...</td>\n",
       "      <td>Oil Well</td>\n",
       "      <td>764038.29</td>\n",
       "      <td>3309483.4</td>\n",
       "      <td>9447.0</td>\n",
       "      <td>9238.0</td>\n",
       "      <td>209.0</td>\n",
       "      <td>6.184</td>\n",
       "      <td>7.0</td>\n",
       "      <td>CLOSED</td>\n",
       "      <td>867459</td>\n",
       "    </tr>\n",
       "    <tr>\n",
       "      <th>3</th>\n",
       "      <td>1/1/56</td>\n",
       "      <td>Avengers</td>\n",
       "      <td>IM-0001</td>\n",
       "      <td>1</td>\n",
       "      <td>C</td>\n",
       "      <td>CASING</td>\n",
       "      <td>IM</td>\n",
       "      <td>IronMan</td>\n",
       "      <td>IMZU</td>\n",
       "      <td>MZSD</td>\n",
       "      <td>...</td>\n",
       "      <td>Oil Well</td>\n",
       "      <td>764038.29</td>\n",
       "      <td>3309483.4</td>\n",
       "      <td>10006.0</td>\n",
       "      <td>9940.0</td>\n",
       "      <td>66.0</td>\n",
       "      <td>6.094</td>\n",
       "      <td>7.0</td>\n",
       "      <td>CLOSED</td>\n",
       "      <td>863725</td>\n",
       "    </tr>\n",
       "    <tr>\n",
       "      <th>4</th>\n",
       "      <td>2/1/56</td>\n",
       "      <td>Avengers</td>\n",
       "      <td>IM-0001</td>\n",
       "      <td>1</td>\n",
       "      <td>C</td>\n",
       "      <td>CASING</td>\n",
       "      <td>IM</td>\n",
       "      <td>IronMan</td>\n",
       "      <td>IMZU</td>\n",
       "      <td>MZSD</td>\n",
       "      <td>...</td>\n",
       "      <td>Oil Well</td>\n",
       "      <td>764038.29</td>\n",
       "      <td>3309483.4</td>\n",
       "      <td>10006.0</td>\n",
       "      <td>9940.0</td>\n",
       "      <td>66.0</td>\n",
       "      <td>6.094</td>\n",
       "      <td>7.0</td>\n",
       "      <td>CLOSED</td>\n",
       "      <td>863725</td>\n",
       "    </tr>\n",
       "    <tr>\n",
       "      <th>5</th>\n",
       "      <td>2/1/56</td>\n",
       "      <td>Avengers</td>\n",
       "      <td>IM-0001</td>\n",
       "      <td>1</td>\n",
       "      <td>T</td>\n",
       "      <td>TUBING</td>\n",
       "      <td>IM</td>\n",
       "      <td>IronMan</td>\n",
       "      <td>IMZU</td>\n",
       "      <td>UZSD</td>\n",
       "      <td>...</td>\n",
       "      <td>Oil Well</td>\n",
       "      <td>764038.29</td>\n",
       "      <td>3309483.4</td>\n",
       "      <td>9447.0</td>\n",
       "      <td>9238.0</td>\n",
       "      <td>209.0</td>\n",
       "      <td>6.184</td>\n",
       "      <td>7.0</td>\n",
       "      <td>CLOSED</td>\n",
       "      <td>867459</td>\n",
       "    </tr>\n",
       "    <tr>\n",
       "      <th>6</th>\n",
       "      <td>3/1/56</td>\n",
       "      <td>Avengers</td>\n",
       "      <td>IM-0001</td>\n",
       "      <td>1</td>\n",
       "      <td>C</td>\n",
       "      <td>CASING</td>\n",
       "      <td>IM</td>\n",
       "      <td>IronMan</td>\n",
       "      <td>IMZU</td>\n",
       "      <td>MZSD</td>\n",
       "      <td>...</td>\n",
       "      <td>Oil Well</td>\n",
       "      <td>764038.29</td>\n",
       "      <td>3309483.4</td>\n",
       "      <td>10006.0</td>\n",
       "      <td>9940.0</td>\n",
       "      <td>66.0</td>\n",
       "      <td>6.094</td>\n",
       "      <td>7.0</td>\n",
       "      <td>CLOSED</td>\n",
       "      <td>863725</td>\n",
       "    </tr>\n",
       "    <tr>\n",
       "      <th>7</th>\n",
       "      <td>3/1/56</td>\n",
       "      <td>Avengers</td>\n",
       "      <td>IM-0001</td>\n",
       "      <td>1</td>\n",
       "      <td>T</td>\n",
       "      <td>TUBING</td>\n",
       "      <td>IM</td>\n",
       "      <td>IronMan</td>\n",
       "      <td>IMZU</td>\n",
       "      <td>UZSD</td>\n",
       "      <td>...</td>\n",
       "      <td>Oil Well</td>\n",
       "      <td>764038.29</td>\n",
       "      <td>3309483.4</td>\n",
       "      <td>9447.0</td>\n",
       "      <td>9238.0</td>\n",
       "      <td>209.0</td>\n",
       "      <td>6.184</td>\n",
       "      <td>7.0</td>\n",
       "      <td>CLOSED</td>\n",
       "      <td>867459</td>\n",
       "    </tr>\n",
       "    <tr>\n",
       "      <th>8</th>\n",
       "      <td>4/1/56</td>\n",
       "      <td>Avengers</td>\n",
       "      <td>IM-0001</td>\n",
       "      <td>1</td>\n",
       "      <td>C</td>\n",
       "      <td>CASING</td>\n",
       "      <td>IM</td>\n",
       "      <td>IronMan</td>\n",
       "      <td>IMZU</td>\n",
       "      <td>MZSD</td>\n",
       "      <td>...</td>\n",
       "      <td>Oil Well</td>\n",
       "      <td>764038.29</td>\n",
       "      <td>3309483.4</td>\n",
       "      <td>10006.0</td>\n",
       "      <td>9940.0</td>\n",
       "      <td>66.0</td>\n",
       "      <td>6.094</td>\n",
       "      <td>7.0</td>\n",
       "      <td>CLOSED</td>\n",
       "      <td>863725</td>\n",
       "    </tr>\n",
       "    <tr>\n",
       "      <th>9</th>\n",
       "      <td>4/1/56</td>\n",
       "      <td>Avengers</td>\n",
       "      <td>IM-0001</td>\n",
       "      <td>1</td>\n",
       "      <td>T</td>\n",
       "      <td>TUBING</td>\n",
       "      <td>IM</td>\n",
       "      <td>IronMan</td>\n",
       "      <td>IMZU</td>\n",
       "      <td>UZSD</td>\n",
       "      <td>...</td>\n",
       "      <td>Oil Well</td>\n",
       "      <td>764038.29</td>\n",
       "      <td>3309483.4</td>\n",
       "      <td>9447.0</td>\n",
       "      <td>9238.0</td>\n",
       "      <td>209.0</td>\n",
       "      <td>6.184</td>\n",
       "      <td>7.0</td>\n",
       "      <td>CLOSED</td>\n",
       "      <td>867459</td>\n",
       "    </tr>\n",
       "  </tbody>\n",
       "</table>\n",
       "<p>10 rows × 38 columns</p>\n",
       "</div>"
      ],
      "text/plain": [
       "      DATE     ASSET      UWI  FACILITYID FACILITYNAME FACILITYTYPE FIELDCODE  \\\n",
       "0  12/1/55  Avengers  IM-0001           1            C       CASING        IM   \n",
       "1  12/1/55  Avengers  IM-0001           1            T       TUBING        IM   \n",
       "2   1/1/56  Avengers  IM-0001           1            T       TUBING        IM   \n",
       "3   1/1/56  Avengers  IM-0001           1            C       CASING        IM   \n",
       "4   2/1/56  Avengers  IM-0001           1            C       CASING        IM   \n",
       "5   2/1/56  Avengers  IM-0001           1            T       TUBING        IM   \n",
       "6   3/1/56  Avengers  IM-0001           1            C       CASING        IM   \n",
       "7   3/1/56  Avengers  IM-0001           1            T       TUBING        IM   \n",
       "8   4/1/56  Avengers  IM-0001           1            C       CASING        IM   \n",
       "9   4/1/56  Avengers  IM-0001           1            T       TUBING        IM   \n",
       "\n",
       "  FIELDNAME FIELDRESCODE RESERVOIRCODE       ...         WELLTYPE          X  \\\n",
       "0   IronMan         IMZU          MZSD       ...         Oil Well  764038.29   \n",
       "1   IronMan         IMZU          UZSD       ...         Oil Well  764038.29   \n",
       "2   IronMan         IMZU          UZSD       ...         Oil Well  764038.29   \n",
       "3   IronMan         IMZU          MZSD       ...         Oil Well  764038.29   \n",
       "4   IronMan         IMZU          MZSD       ...         Oil Well  764038.29   \n",
       "5   IronMan         IMZU          UZSD       ...         Oil Well  764038.29   \n",
       "6   IronMan         IMZU          MZSD       ...         Oil Well  764038.29   \n",
       "7   IronMan         IMZU          UZSD       ...         Oil Well  764038.29   \n",
       "8   IronMan         IMZU          MZSD       ...         Oil Well  764038.29   \n",
       "9   IronMan         IMZU          UZSD       ...         Oil Well  764038.29   \n",
       "\n",
       "           Y  BOTTOMDEPTH  TOPDEPTH  LENGTH  INNERDIAMETER  OUTERDIAMETER  \\\n",
       "0  3309483.4      10006.0    9940.0    66.0          6.094            7.0   \n",
       "1  3309483.4       9447.0    9238.0   209.0          6.184            7.0   \n",
       "2  3309483.4       9447.0    9238.0   209.0          6.184            7.0   \n",
       "3  3309483.4      10006.0    9940.0    66.0          6.094            7.0   \n",
       "4  3309483.4      10006.0    9940.0    66.0          6.094            7.0   \n",
       "5  3309483.4       9447.0    9238.0   209.0          6.184            7.0   \n",
       "6  3309483.4      10006.0    9940.0    66.0          6.094            7.0   \n",
       "7  3309483.4       9447.0    9238.0   209.0          6.184            7.0   \n",
       "8  3309483.4      10006.0    9940.0    66.0          6.094            7.0   \n",
       "9  3309483.4       9447.0    9238.0   209.0          6.184            7.0   \n",
       "\n",
       "   CURRENTSTATUS  WELLCOMPLETIONS  \n",
       "0         CLOSED           863725  \n",
       "1         CLOSED           867459  \n",
       "2         CLOSED           867459  \n",
       "3         CLOSED           863725  \n",
       "4         CLOSED           863725  \n",
       "5         CLOSED           867459  \n",
       "6         CLOSED           863725  \n",
       "7         CLOSED           867459  \n",
       "8         CLOSED           863725  \n",
       "9         CLOSED           867459  \n",
       "\n",
       "[10 rows x 38 columns]"
      ]
     },
     "execution_count": 21,
     "metadata": {},
     "output_type": "execute_result"
    }
   ],
   "source": [
    "df.head(10)"
   ]
  },
  {
   "cell_type": "code",
   "execution_count": 9,
   "metadata": {
    "collapsed": false
   },
   "outputs": [
    {
     "data": {
      "text/html": [
       "<div>\n",
       "<table border=\"1\" class=\"dataframe\">\n",
       "  <thead>\n",
       "    <tr style=\"text-align: right;\">\n",
       "      <th></th>\n",
       "      <th>FACILITYID</th>\n",
       "      <th>CALENDARDAYS</th>\n",
       "      <th>OPERATIONALDAYS</th>\n",
       "      <th>WATERCUT</th>\n",
       "      <th>OILVOLUME</th>\n",
       "      <th>OILRATEOD</th>\n",
       "      <th>OILRATECD</th>\n",
       "      <th>WATERVOLUME</th>\n",
       "      <th>WATERRATEOD</th>\n",
       "      <th>WATERRATECD</th>\n",
       "      <th>...</th>\n",
       "      <th>GASRATECD</th>\n",
       "      <th>GOR</th>\n",
       "      <th>X</th>\n",
       "      <th>Y</th>\n",
       "      <th>BOTTOMDEPTH</th>\n",
       "      <th>TOPDEPTH</th>\n",
       "      <th>LENGTH</th>\n",
       "      <th>INNERDIAMETER</th>\n",
       "      <th>OUTERDIAMETER</th>\n",
       "      <th>WELLCOMPLETIONS</th>\n",
       "    </tr>\n",
       "  </thead>\n",
       "  <tbody>\n",
       "    <tr>\n",
       "      <th>count</th>\n",
       "      <td>167431.000000</td>\n",
       "      <td>167431.000000</td>\n",
       "      <td>167386.000000</td>\n",
       "      <td>166903.000000</td>\n",
       "      <td>148356.000000</td>\n",
       "      <td>167386.000000</td>\n",
       "      <td>167431.000000</td>\n",
       "      <td>162239.000000</td>\n",
       "      <td>166860.000000</td>\n",
       "      <td>166861.000000</td>\n",
       "      <td>...</td>\n",
       "      <td>167127.000000</td>\n",
       "      <td>167304.000000</td>\n",
       "      <td>167431.000000</td>\n",
       "      <td>1.674310e+05</td>\n",
       "      <td>91982.000000</td>\n",
       "      <td>91982.000000</td>\n",
       "      <td>87305.000000</td>\n",
       "      <td>84997.000000</td>\n",
       "      <td>84997.000000</td>\n",
       "      <td>167431.000000</td>\n",
       "    </tr>\n",
       "    <tr>\n",
       "      <th>mean</th>\n",
       "      <td>1.685273</td>\n",
       "      <td>30.446608</td>\n",
       "      <td>22.839392</td>\n",
       "      <td>0.171124</td>\n",
       "      <td>31779.605782</td>\n",
       "      <td>1778.702095</td>\n",
       "      <td>1489.928755</td>\n",
       "      <td>8098.065697</td>\n",
       "      <td>299.813051</td>\n",
       "      <td>271.650122</td>\n",
       "      <td>...</td>\n",
       "      <td>1101.090474</td>\n",
       "      <td>625.492288</td>\n",
       "      <td>766700.814937</td>\n",
       "      <td>3.308328e+06</td>\n",
       "      <td>8474.379652</td>\n",
       "      <td>8272.494771</td>\n",
       "      <td>119.364401</td>\n",
       "      <td>6.527573</td>\n",
       "      <td>7.291985</td>\n",
       "      <td>582346.273498</td>\n",
       "    </tr>\n",
       "    <tr>\n",
       "      <th>std</th>\n",
       "      <td>1.182450</td>\n",
       "      <td>0.803290</td>\n",
       "      <td>11.616548</td>\n",
       "      <td>0.249442</td>\n",
       "      <td>35422.457596</td>\n",
       "      <td>3756.322908</td>\n",
       "      <td>2316.478080</td>\n",
       "      <td>15080.133741</td>\n",
       "      <td>560.546239</td>\n",
       "      <td>508.229569</td>\n",
       "      <td>...</td>\n",
       "      <td>2046.459115</td>\n",
       "      <td>2628.399526</td>\n",
       "      <td>9323.434707</td>\n",
       "      <td>8.665174e+03</td>\n",
       "      <td>940.056064</td>\n",
       "      <td>1306.024307</td>\n",
       "      <td>94.239349</td>\n",
       "      <td>1.245037</td>\n",
       "      <td>1.324114</td>\n",
       "      <td>296963.481566</td>\n",
       "    </tr>\n",
       "    <tr>\n",
       "      <th>min</th>\n",
       "      <td>1.000000</td>\n",
       "      <td>28.000000</td>\n",
       "      <td>0.000000</td>\n",
       "      <td>0.000000</td>\n",
       "      <td>0.000000</td>\n",
       "      <td>0.000000</td>\n",
       "      <td>0.000000</td>\n",
       "      <td>0.000000</td>\n",
       "      <td>0.000000</td>\n",
       "      <td>0.000000</td>\n",
       "      <td>...</td>\n",
       "      <td>0.000000</td>\n",
       "      <td>0.000000</td>\n",
       "      <td>733986.801000</td>\n",
       "      <td>3.275027e+06</td>\n",
       "      <td>690.000000</td>\n",
       "      <td>0.000000</td>\n",
       "      <td>4.000000</td>\n",
       "      <td>1.995000</td>\n",
       "      <td>2.375000</td>\n",
       "      <td>10051.000000</td>\n",
       "    </tr>\n",
       "    <tr>\n",
       "      <th>25%</th>\n",
       "      <td>1.000000</td>\n",
       "      <td>30.000000</td>\n",
       "      <td>17.000000</td>\n",
       "      <td>0.000000</td>\n",
       "      <td>6936.987858</td>\n",
       "      <td>382.785000</td>\n",
       "      <td>288.295000</td>\n",
       "      <td>0.000000</td>\n",
       "      <td>0.000000</td>\n",
       "      <td>0.000000</td>\n",
       "      <td>...</td>\n",
       "      <td>102.480000</td>\n",
       "      <td>267.000000</td>\n",
       "      <td>762591.040000</td>\n",
       "      <td>3.303603e+06</td>\n",
       "      <td>7920.000000</td>\n",
       "      <td>7820.000000</td>\n",
       "      <td>51.000000</td>\n",
       "      <td>6.276000</td>\n",
       "      <td>7.000000</td>\n",
       "      <td>273701.000000</td>\n",
       "    </tr>\n",
       "    <tr>\n",
       "      <th>50%</th>\n",
       "      <td>1.000000</td>\n",
       "      <td>31.000000</td>\n",
       "      <td>30.000000</td>\n",
       "      <td>0.001000</td>\n",
       "      <td>21726.822555</td>\n",
       "      <td>969.035000</td>\n",
       "      <td>833.650000</td>\n",
       "      <td>10.292497</td>\n",
       "      <td>1.270000</td>\n",
       "      <td>1.050000</td>\n",
       "      <td>...</td>\n",
       "      <td>449.250000</td>\n",
       "      <td>544.800000</td>\n",
       "      <td>765457.990000</td>\n",
       "      <td>3.307802e+06</td>\n",
       "      <td>8204.000000</td>\n",
       "      <td>8127.000000</td>\n",
       "      <td>96.000000</td>\n",
       "      <td>6.276000</td>\n",
       "      <td>7.000000</td>\n",
       "      <td>863754.000000</td>\n",
       "    </tr>\n",
       "    <tr>\n",
       "      <th>75%</th>\n",
       "      <td>2.000000</td>\n",
       "      <td>31.000000</td>\n",
       "      <td>31.000000</td>\n",
       "      <td>0.329000</td>\n",
       "      <td>45324.350000</td>\n",
       "      <td>2104.367500</td>\n",
       "      <td>1842.275000</td>\n",
       "      <td>10576.379575</td>\n",
       "      <td>412.585000</td>\n",
       "      <td>356.430000</td>\n",
       "      <td>...</td>\n",
       "      <td>1267.640000</td>\n",
       "      <td>768.322500</td>\n",
       "      <td>774596.000000</td>\n",
       "      <td>3.310482e+06</td>\n",
       "      <td>8442.000000</td>\n",
       "      <td>8319.000000</td>\n",
       "      <td>159.000000</td>\n",
       "      <td>6.276000</td>\n",
       "      <td>7.000000</td>\n",
       "      <td>865441.000000</td>\n",
       "    </tr>\n",
       "    <tr>\n",
       "      <th>max</th>\n",
       "      <td>12.000000</td>\n",
       "      <td>31.000000</td>\n",
       "      <td>32.458300</td>\n",
       "      <td>1.000000</td>\n",
       "      <td>677957.772400</td>\n",
       "      <td>984274.070000</td>\n",
       "      <td>30551.890000</td>\n",
       "      <td>207692.650200</td>\n",
       "      <td>33029.940000</td>\n",
       "      <td>22680.000000</td>\n",
       "      <td>...</td>\n",
       "      <td>61344.940000</td>\n",
       "      <td>640162.470000</td>\n",
       "      <td>785786.542000</td>\n",
       "      <td>3.332471e+06</td>\n",
       "      <td>12100.000000</td>\n",
       "      <td>12062.000000</td>\n",
       "      <td>570.000000</td>\n",
       "      <td>9.950000</td>\n",
       "      <td>10.750000</td>\n",
       "      <td>868177.000000</td>\n",
       "    </tr>\n",
       "  </tbody>\n",
       "</table>\n",
       "<p>8 rows × 24 columns</p>\n",
       "</div>"
      ],
      "text/plain": [
       "          FACILITYID   CALENDARDAYS  OPERATIONALDAYS       WATERCUT  \\\n",
       "count  167431.000000  167431.000000    167386.000000  166903.000000   \n",
       "mean        1.685273      30.446608        22.839392       0.171124   \n",
       "std         1.182450       0.803290        11.616548       0.249442   \n",
       "min         1.000000      28.000000         0.000000       0.000000   \n",
       "25%         1.000000      30.000000        17.000000       0.000000   \n",
       "50%         1.000000      31.000000        30.000000       0.001000   \n",
       "75%         2.000000      31.000000        31.000000       0.329000   \n",
       "max        12.000000      31.000000        32.458300       1.000000   \n",
       "\n",
       "           OILVOLUME      OILRATEOD      OILRATECD    WATERVOLUME  \\\n",
       "count  148356.000000  167386.000000  167431.000000  162239.000000   \n",
       "mean    31779.605782    1778.702095    1489.928755    8098.065697   \n",
       "std     35422.457596    3756.322908    2316.478080   15080.133741   \n",
       "min         0.000000       0.000000       0.000000       0.000000   \n",
       "25%      6936.987858     382.785000     288.295000       0.000000   \n",
       "50%     21726.822555     969.035000     833.650000      10.292497   \n",
       "75%     45324.350000    2104.367500    1842.275000   10576.379575   \n",
       "max    677957.772400  984274.070000   30551.890000  207692.650200   \n",
       "\n",
       "         WATERRATEOD    WATERRATECD       ...             GASRATECD  \\\n",
       "count  166860.000000  166861.000000       ...         167127.000000   \n",
       "mean      299.813051     271.650122       ...           1101.090474   \n",
       "std       560.546239     508.229569       ...           2046.459115   \n",
       "min         0.000000       0.000000       ...              0.000000   \n",
       "25%         0.000000       0.000000       ...            102.480000   \n",
       "50%         1.270000       1.050000       ...            449.250000   \n",
       "75%       412.585000     356.430000       ...           1267.640000   \n",
       "max     33029.940000   22680.000000       ...          61344.940000   \n",
       "\n",
       "                 GOR              X             Y   BOTTOMDEPTH      TOPDEPTH  \\\n",
       "count  167304.000000  167431.000000  1.674310e+05  91982.000000  91982.000000   \n",
       "mean      625.492288  766700.814937  3.308328e+06   8474.379652   8272.494771   \n",
       "std      2628.399526    9323.434707  8.665174e+03    940.056064   1306.024307   \n",
       "min         0.000000  733986.801000  3.275027e+06    690.000000      0.000000   \n",
       "25%       267.000000  762591.040000  3.303603e+06   7920.000000   7820.000000   \n",
       "50%       544.800000  765457.990000  3.307802e+06   8204.000000   8127.000000   \n",
       "75%       768.322500  774596.000000  3.310482e+06   8442.000000   8319.000000   \n",
       "max    640162.470000  785786.542000  3.332471e+06  12100.000000  12062.000000   \n",
       "\n",
       "             LENGTH  INNERDIAMETER  OUTERDIAMETER  WELLCOMPLETIONS  \n",
       "count  87305.000000   84997.000000   84997.000000    167431.000000  \n",
       "mean     119.364401       6.527573       7.291985    582346.273498  \n",
       "std       94.239349       1.245037       1.324114    296963.481566  \n",
       "min        4.000000       1.995000       2.375000     10051.000000  \n",
       "25%       51.000000       6.276000       7.000000    273701.000000  \n",
       "50%       96.000000       6.276000       7.000000    863754.000000  \n",
       "75%      159.000000       6.276000       7.000000    865441.000000  \n",
       "max      570.000000       9.950000      10.750000    868177.000000  \n",
       "\n",
       "[8 rows x 24 columns]"
      ]
     },
     "execution_count": 9,
     "metadata": {},
     "output_type": "execute_result"
    }
   ],
   "source": [
    "df.describe()"
   ]
  },
  {
   "cell_type": "code",
   "execution_count": 14,
   "metadata": {
    "collapsed": false
   },
   "outputs": [],
   "source": [
    "calendar_days = df[('CALENDARDAYS')]"
   ]
  },
  {
   "cell_type": "raw",
   "metadata": {},
   "source": []
  },
  {
   "cell_type": "code",
   "execution_count": 16,
   "metadata": {
    "collapsed": false
   },
   "outputs": [
    {
     "data": {
      "text/plain": [
       "0    31\n",
       "1    31\n",
       "2    31\n",
       "3    31\n",
       "4    29\n",
       "Name: CALENDARDAYS, dtype: int64"
      ]
     },
     "execution_count": 16,
     "metadata": {},
     "output_type": "execute_result"
    }
   ],
   "source": [
    "calendar_days.head()"
   ]
  },
  {
   "cell_type": "code",
   "execution_count": 18,
   "metadata": {
    "collapsed": false
   },
   "outputs": [],
   "source": [
    "meancd = np.mean(calendar_days)"
   ]
  },
  {
   "cell_type": "code",
   "execution_count": 25,
   "metadata": {
    "collapsed": false
   },
   "outputs": [
    {
     "data": {
      "text/plain": [
       "30.446607856370683"
      ]
     },
     "execution_count": 25,
     "metadata": {},
     "output_type": "execute_result"
    }
   ],
   "source": [
    "meancd"
   ]
  },
  {
   "cell_type": "code",
   "execution_count": 26,
   "metadata": {
    "collapsed": false
   },
   "outputs": [],
   "source": [
    "operational_days = df[('OPERATIONALDAYS')]"
   ]
  },
  {
   "cell_type": "code",
   "execution_count": 31,
   "metadata": {
    "collapsed": false
   },
   "outputs": [
    {
     "data": {
      "text/plain": [
       "0    0.0\n",
       "1    0.0\n",
       "2    0.0\n",
       "3    0.0\n",
       "4    0.0\n",
       "Name: OPERATIONALDAYS, dtype: float64"
      ]
     },
     "execution_count": 31,
     "metadata": {},
     "output_type": "execute_result"
    }
   ],
   "source": [
    "operational_days.head()"
   ]
  },
  {
   "cell_type": "code",
   "execution_count": 32,
   "metadata": {
    "collapsed": true
   },
   "outputs": [],
   "source": [
    "meanod = np.mean(operational_days)"
   ]
  },
  {
   "cell_type": "code",
   "execution_count": 33,
   "metadata": {
    "collapsed": false
   },
   "outputs": [
    {
     "data": {
      "text/plain": [
       "22.839391529239304"
      ]
     },
     "execution_count": 33,
     "metadata": {},
     "output_type": "execute_result"
    }
   ],
   "source": [
    "meanod"
   ]
  },
  {
   "cell_type": "code",
   "execution_count": 54,
   "metadata": {
    "collapsed": false
   },
   "outputs": [],
   "source": [
    "ov_dt = df[['OILVOLUME', 'DATE']]"
   ]
  },
  {
   "cell_type": "code",
   "execution_count": 56,
   "metadata": {
    "collapsed": false
   },
   "outputs": [
    {
     "data": {
      "text/html": [
       "<div>\n",
       "<table border=\"1\" class=\"dataframe\">\n",
       "  <thead>\n",
       "    <tr style=\"text-align: right;\">\n",
       "      <th></th>\n",
       "      <th>OILVOLUME</th>\n",
       "      <th>DATE</th>\n",
       "    </tr>\n",
       "  </thead>\n",
       "  <tbody>\n",
       "    <tr>\n",
       "      <th>0</th>\n",
       "      <td>15439.5233</td>\n",
       "      <td>12/1/55</td>\n",
       "    </tr>\n",
       "    <tr>\n",
       "      <th>1</th>\n",
       "      <td>5197.8438</td>\n",
       "      <td>12/1/55</td>\n",
       "    </tr>\n",
       "    <tr>\n",
       "      <th>2</th>\n",
       "      <td>0.0000</td>\n",
       "      <td>1/1/56</td>\n",
       "    </tr>\n",
       "    <tr>\n",
       "      <th>3</th>\n",
       "      <td>0.0000</td>\n",
       "      <td>1/1/56</td>\n",
       "    </tr>\n",
       "    <tr>\n",
       "      <th>4</th>\n",
       "      <td>0.0000</td>\n",
       "      <td>2/1/56</td>\n",
       "    </tr>\n",
       "    <tr>\n",
       "      <th>5</th>\n",
       "      <td>0.0000</td>\n",
       "      <td>2/1/56</td>\n",
       "    </tr>\n",
       "    <tr>\n",
       "      <th>6</th>\n",
       "      <td>0.0000</td>\n",
       "      <td>3/1/56</td>\n",
       "    </tr>\n",
       "    <tr>\n",
       "      <th>7</th>\n",
       "      <td>0.0000</td>\n",
       "      <td>3/1/56</td>\n",
       "    </tr>\n",
       "    <tr>\n",
       "      <th>8</th>\n",
       "      <td>0.0000</td>\n",
       "      <td>4/1/56</td>\n",
       "    </tr>\n",
       "    <tr>\n",
       "      <th>9</th>\n",
       "      <td>0.0000</td>\n",
       "      <td>4/1/56</td>\n",
       "    </tr>\n",
       "  </tbody>\n",
       "</table>\n",
       "</div>"
      ],
      "text/plain": [
       "    OILVOLUME     DATE\n",
       "0  15439.5233  12/1/55\n",
       "1   5197.8438  12/1/55\n",
       "2      0.0000   1/1/56\n",
       "3      0.0000   1/1/56\n",
       "4      0.0000   2/1/56\n",
       "5      0.0000   2/1/56\n",
       "6      0.0000   3/1/56\n",
       "7      0.0000   3/1/56\n",
       "8      0.0000   4/1/56\n",
       "9      0.0000   4/1/56"
      ]
     },
     "execution_count": 56,
     "metadata": {},
     "output_type": "execute_result"
    }
   ],
   "source": [
    "ov_dt.head(10)"
   ]
  },
  {
   "cell_type": "code",
   "execution_count": 27,
   "metadata": {
    "collapsed": false
   },
   "outputs": [
    {
     "data": {
      "text/plain": [
       "0    15439.5233\n",
       "1     5197.8438\n",
       "2        0.0000\n",
       "3        0.0000\n",
       "4        0.0000\n",
       "Name: OILVOLUME, dtype: float64"
      ]
     },
     "execution_count": 27,
     "metadata": {},
     "output_type": "execute_result"
    }
   ],
   "source": [
    "ov = df[('OILVOLUME')]\n",
    "ov.head()"
   ]
  },
  {
   "cell_type": "code",
   "execution_count": 30,
   "metadata": {
    "collapsed": false
   },
   "outputs": [],
   "source": [
    "wt = df[('WELLTYPE')]"
   ]
  },
  {
   "cell_type": "code",
   "execution_count": 31,
   "metadata": {
    "collapsed": false
   },
   "outputs": [
    {
     "data": {
      "text/plain": [
       "0    Oil Well\n",
       "1    Oil Well\n",
       "2    Oil Well\n",
       "3    Oil Well\n",
       "4    Oil Well\n",
       "Name: WELLTYPE, dtype: object"
      ]
     },
     "execution_count": 31,
     "metadata": {},
     "output_type": "execute_result"
    }
   ],
   "source": [
    "wt.head()"
   ]
  },
  {
   "cell_type": "code",
   "execution_count": 25,
   "metadata": {
    "collapsed": false
   },
   "outputs": [
    {
     "data": {
      "text/plain": [
       "0    12/1/55\n",
       "1    12/1/55\n",
       "2     1/1/56\n",
       "3     1/1/56\n",
       "4     2/1/56\n",
       "Name: DATE, dtype: object"
      ]
     },
     "execution_count": 25,
     "metadata": {},
     "output_type": "execute_result"
    }
   ],
   "source": [
    "dt = df[('DATE')]\n",
    "dt.head()"
   ]
  },
  {
   "cell_type": "code",
   "execution_count": null,
   "metadata": {
    "collapsed": false
   },
   "outputs": [],
   "source": []
  },
  {
   "cell_type": "code",
   "execution_count": null,
   "metadata": {
    "collapsed": false
   },
   "outputs": [],
   "source": []
  },
  {
   "cell_type": "code",
   "execution_count": 44,
   "metadata": {
    "collapsed": false
   },
   "outputs": [
    {
     "data": {
      "text/plain": [
       "0    12/1/55\n",
       "1    12/1/55\n",
       "2     1/1/56\n",
       "3     1/1/56\n",
       "4     2/1/56\n",
       "Name: DATE, dtype: object"
      ]
     },
     "execution_count": 44,
     "metadata": {},
     "output_type": "execute_result"
    }
   ],
   "source": [
    "df['DATE'].head()"
   ]
  },
  {
   "cell_type": "code",
   "execution_count": null,
   "metadata": {
    "collapsed": false
   },
   "outputs": [],
   "source": []
  },
  {
   "cell_type": "code",
   "execution_count": null,
   "metadata": {
    "collapsed": false
   },
   "outputs": [],
   "source": [
    "\n"
   ]
  },
  {
   "cell_type": "code",
   "execution_count": 16,
   "metadata": {
    "collapsed": false
   },
   "outputs": [
    {
     "data": {
      "image/png": "[encoded data removed]",
      "text/plain": [
       "<matplotlib.figure.Figure at 0x1199cbba8>"
      ]
     },
     "metadata": {},
     "output_type": "display_data"
    }
   ],
   "source": [
    "df = pd.DataFrame(np.random.randn(50,4), columns = list(\"ABCD\"))\n",
    "\n",
    "plt.scatter(df['A'],df['B']) \n",
    "plt.show()"
   ]
  },
  {
   "cell_type": "code",
   "execution_count": 114,
   "metadata": {
    "collapsed": false
   },
   "outputs": [
    {
     "ename": "SyntaxError",
     "evalue": "invalid syntax (<ipython-input-114-640a0cf9c046>, line 1)",
     "output_type": "error",
     "traceback": [
      "\u001b[0;36m  File \u001b[0;32m\"<ipython-input-114-640a0cf9c046>\"\u001b[0;36m, line \u001b[0;32m1\u001b[0m\n\u001b[0;31m    df = pd.DataFrame(np.random.randn(50,4), columns = list[('DATE'), ('OILVOLUME'))\u001b[0m\n\u001b[0m                                                                                   ^\u001b[0m\n\u001b[0;31mSyntaxError\u001b[0m\u001b[0;31m:\u001b[0m invalid syntax\n"
     ]
    }
   ],
   "source": [
    "df = pd.DataFrame(np.random.randn(50,4), columns = list[('DATE'), ('OILVOLUME'))\n",
    "\n",
    "plt.scatter(df['DATE'], df['OILVOLUME']) \n",
    "plt.show()"
   ]
  },
  {
   "cell_type": "code",
   "execution_count": 116,
   "metadata": {
    "collapsed": false
   },
   "outputs": [
    {
     "data": {
      "text/plain": [
       "DatetimeIndex(['1955-12-01', '1955-12-02', '1955-12-03', '1955-12-04',\n",
       "               '1955-12-05', '1955-12-06', '1955-12-07', '1955-12-08',\n",
       "               '1955-12-09', '1955-12-10',\n",
       "               ...\n",
       "               '2016-12-23', '2016-12-24', '2016-12-25', '2016-12-26',\n",
       "               '2016-12-27', '2016-12-28', '2016-12-29', '2016-12-30',\n",
       "               '2016-12-31', '2017-01-01'],\n",
       "              dtype='datetime64[ns]', length=22313, freq='D')"
      ]
     },
     "execution_count": 116,
     "metadata": {},
     "output_type": "execute_result"
    }
   ],
   "source": [
    "dates = pd.date_range('1955/12/01', '20170101')\n",
    "dates "
   ]
  },
  {
   "cell_type": "code",
   "execution_count": 36,
   "metadata": {
    "collapsed": false
   },
   "outputs": [
    {
     "data": {
      "text/plain": [
       "(733,)"
      ]
     },
     "execution_count": 36,
     "metadata": {},
     "output_type": "execute_result"
    }
   ],
   "source": [
    "dates.shape"
   ]
  },
  {
   "cell_type": "code",
   "execution_count": 117,
   "metadata": {
    "collapsed": false
   },
   "outputs": [],
   "source": [
    "ov = Series(ov, index=dates)"
   ]
  },
  {
   "cell_type": "code",
   "execution_count": 118,
   "metadata": {
    "collapsed": false
   },
   "outputs": [
    {
     "data": {
      "text/plain": [
       "1955-12-01   NaN\n",
       "1955-12-02   NaN\n",
       "1955-12-03   NaN\n",
       "1955-12-04   NaN\n",
       "1955-12-05   NaN\n",
       "Freq: D, Name: OILVOLUME, dtype: float64"
      ]
     },
     "execution_count": 118,
     "metadata": {},
     "output_type": "execute_result"
    }
   ],
   "source": [
    "ov.head()"
   ]
  },
  {
   "cell_type": "code",
   "execution_count": 59,
   "metadata": {
    "collapsed": false
   },
   "outputs": [
    {
     "ename": "ValueError",
     "evalue": "x and y must be the same size",
     "output_type": "error",
     "traceback": [
      "\u001b[0;31m---------------------------------------------------------------------------\u001b[0m",
      "\u001b[0;31mValueError\u001b[0m                                Traceback (most recent call last)",
      "\u001b[0;32m<ipython-input-59-544aa98b5233>\u001b[0m in \u001b[0;36m<module>\u001b[0;34m()\u001b[0m\n\u001b[0;32m----> 1\u001b[0;31m \u001b[0mplt\u001b[0m\u001b[0;34m.\u001b[0m\u001b[0mscatter\u001b[0m\u001b[0;34m(\u001b[0m\u001b[0mdt\u001b[0m\u001b[0;34m,\u001b[0m \u001b[0mov\u001b[0m\u001b[0;34m)\u001b[0m\u001b[0;34m\u001b[0m\u001b[0m\n\u001b[0m\u001b[1;32m      2\u001b[0m \u001b[0mplt\u001b[0m\u001b[0;34m.\u001b[0m\u001b[0mshow\u001b[0m\u001b[0;34m(\u001b[0m\u001b[0;34m)\u001b[0m\u001b[0;34m\u001b[0m\u001b[0m\n",
      "\u001b[0;32m/Users/Priya/anaconda/lib/python3.6/site-packages/matplotlib/pyplot.py\u001b[0m in \u001b[0;36mscatter\u001b[0;34m(x, y, s, c, marker, cmap, norm, vmin, vmax, alpha, linewidths, verts, edgecolors, hold, data, **kwargs)\u001b[0m\n\u001b[1;32m   3433\u001b[0m                          \u001b[0mvmin\u001b[0m\u001b[0;34m=\u001b[0m\u001b[0mvmin\u001b[0m\u001b[0;34m,\u001b[0m \u001b[0mvmax\u001b[0m\u001b[0;34m=\u001b[0m\u001b[0mvmax\u001b[0m\u001b[0;34m,\u001b[0m \u001b[0malpha\u001b[0m\u001b[0;34m=\u001b[0m\u001b[0malpha\u001b[0m\u001b[0;34m,\u001b[0m\u001b[0;34m\u001b[0m\u001b[0m\n\u001b[1;32m   3434\u001b[0m                          \u001b[0mlinewidths\u001b[0m\u001b[0;34m=\u001b[0m\u001b[0mlinewidths\u001b[0m\u001b[0;34m,\u001b[0m \u001b[0mverts\u001b[0m\u001b[0;34m=\u001b[0m\u001b[0mverts\u001b[0m\u001b[0;34m,\u001b[0m\u001b[0;34m\u001b[0m\u001b[0m\n\u001b[0;32m-> 3435\u001b[0;31m                          edgecolors=edgecolors, data=data, **kwargs)\n\u001b[0m\u001b[1;32m   3436\u001b[0m     \u001b[0;32mfinally\u001b[0m\u001b[0;34m:\u001b[0m\u001b[0;34m\u001b[0m\u001b[0m\n\u001b[1;32m   3437\u001b[0m         \u001b[0max\u001b[0m\u001b[0;34m.\u001b[0m\u001b[0m_hold\u001b[0m \u001b[0;34m=\u001b[0m \u001b[0mwashold\u001b[0m\u001b[0;34m\u001b[0m\u001b[0m\n",
      "\u001b[0;32m/Users/Priya/anaconda/lib/python3.6/site-packages/matplotlib/__init__.py\u001b[0m in \u001b[0;36minner\u001b[0;34m(ax, *args, **kwargs)\u001b[0m\n\u001b[1;32m   1890\u001b[0m                     warnings.warn(msg % (label_namer, func.__name__),\n\u001b[1;32m   1891\u001b[0m                                   RuntimeWarning, stacklevel=2)\n\u001b[0;32m-> 1892\u001b[0;31m             \u001b[0;32mreturn\u001b[0m \u001b[0mfunc\u001b[0m\u001b[0;34m(\u001b[0m\u001b[0max\u001b[0m\u001b[0;34m,\u001b[0m \u001b[0;34m*\u001b[0m\u001b[0margs\u001b[0m\u001b[0;34m,\u001b[0m \u001b[0;34m**\u001b[0m\u001b[0mkwargs\u001b[0m\u001b[0;34m)\u001b[0m\u001b[0;34m\u001b[0m\u001b[0m\n\u001b[0m\u001b[1;32m   1893\u001b[0m         \u001b[0mpre_doc\u001b[0m \u001b[0;34m=\u001b[0m \u001b[0minner\u001b[0m\u001b[0;34m.\u001b[0m\u001b[0m__doc__\u001b[0m\u001b[0;34m\u001b[0m\u001b[0m\n\u001b[1;32m   1894\u001b[0m         \u001b[0;32mif\u001b[0m \u001b[0mpre_doc\u001b[0m \u001b[0;32mis\u001b[0m \u001b[0;32mNone\u001b[0m\u001b[0;34m:\u001b[0m\u001b[0;34m\u001b[0m\u001b[0m\n",
      "\u001b[0;32m/Users/Priya/anaconda/lib/python3.6/site-packages/matplotlib/axes/_axes.py\u001b[0m in \u001b[0;36mscatter\u001b[0;34m(self, x, y, s, c, marker, cmap, norm, vmin, vmax, alpha, linewidths, verts, edgecolors, **kwargs)\u001b[0m\n\u001b[1;32m   3956\u001b[0m         \u001b[0my\u001b[0m \u001b[0;34m=\u001b[0m \u001b[0mnp\u001b[0m\u001b[0;34m.\u001b[0m\u001b[0mma\u001b[0m\u001b[0;34m.\u001b[0m\u001b[0mravel\u001b[0m\u001b[0;34m(\u001b[0m\u001b[0my\u001b[0m\u001b[0;34m)\u001b[0m\u001b[0;34m\u001b[0m\u001b[0m\n\u001b[1;32m   3957\u001b[0m         \u001b[0;32mif\u001b[0m \u001b[0mx\u001b[0m\u001b[0;34m.\u001b[0m\u001b[0msize\u001b[0m \u001b[0;34m!=\u001b[0m \u001b[0my\u001b[0m\u001b[0;34m.\u001b[0m\u001b[0msize\u001b[0m\u001b[0;34m:\u001b[0m\u001b[0;34m\u001b[0m\u001b[0m\n\u001b[0;32m-> 3958\u001b[0;31m             \u001b[0;32mraise\u001b[0m \u001b[0mValueError\u001b[0m\u001b[0;34m(\u001b[0m\u001b[0;34m\"x and y must be the same size\"\u001b[0m\u001b[0;34m)\u001b[0m\u001b[0;34m\u001b[0m\u001b[0m\n\u001b[0m\u001b[1;32m   3959\u001b[0m \u001b[0;34m\u001b[0m\u001b[0m\n\u001b[1;32m   3960\u001b[0m         \u001b[0;32mif\u001b[0m \u001b[0ms\u001b[0m \u001b[0;32mis\u001b[0m \u001b[0;32mNone\u001b[0m\u001b[0;34m:\u001b[0m\u001b[0;34m\u001b[0m\u001b[0m\n",
      "\u001b[0;31mValueError\u001b[0m: x and y must be the same size"
     ]
    },
    {
     "data": {
      "image/png": "[encoded data removed]",
      "text/plain": [
       "<matplotlib.figure.Figure at 0x11b436828>"
      ]
     },
     "metadata": {},
     "output_type": "display_data"
    }
   ],
   "source": [
    "plt.scatter(dt, ov)\n",
    "plt.show()"
   ]
  },
  {
   "cell_type": "code",
   "execution_count": null,
   "metadata": {
    "collapsed": true
   },
   "outputs": [],
   "source": []
  },
  {
   "cell_type": "code",
   "execution_count": null,
   "metadata": {
    "collapsed": true
   },
   "outputs": [],
   "source": []
  },
  {
   "cell_type": "code",
   "execution_count": null,
   "metadata": {
    "collapsed": true
   },
   "outputs": [],
   "source": []
  },
  {
   "cell_type": "code",
   "execution_count": null,
   "metadata": {
    "collapsed": true
   },
   "outputs": [],
   "source": []
  },
  {
   "cell_type": "code",
   "execution_count": null,
   "metadata": {
    "collapsed": true
   },
   "outputs": [],
   "source": []
  },
  {
   "cell_type": "code",
   "execution_count": null,
   "metadata": {
    "collapsed": true
   },
   "outputs": [],
   "source": []
  },
  {
   "cell_type": "code",
   "execution_count": null,
   "metadata": {
    "collapsed": true
   },
   "outputs": [],
   "source": []
  },
  {
   "cell_type": "code",
   "execution_count": 99,
   "metadata": {
    "collapsed": false
   },
   "outputs": [
    {
     "ename": "SyntaxError",
     "evalue": "invalid syntax (<ipython-input-99-0896ede9411a>, line 3)",
     "output_type": "error",
     "traceback": [
      "\u001b[0;36m  File \u001b[0;32m\"<ipython-input-99-0896ede9411a>\"\u001b[0;36m, line \u001b[0;32m3\u001b[0m\n\u001b[0;31m    ts = ts.cumsum()\u001b[0m\n\u001b[0m     ^\u001b[0m\n\u001b[0;31mSyntaxError\u001b[0m\u001b[0;31m:\u001b[0m invalid syntax\n"
     ]
    }
   ],
   "source": [
    "ts = pd.Series(np.random.randn(1000), index=pd.date_range(\"12/01/1955\", periods = 1000)\n",
    "\n",
    "ts = ts.cumsum()\n",
    "\n",
    "ts.plot()"
   ]
  },
  {
   "cell_type": "code",
   "execution_count": 92,
   "metadata": {
    "collapsed": false
   },
   "outputs": [
    {
     "data": {
      "text/plain": [
       "<matplotlib.axes._subplots.AxesSubplot at 0x11a89a5f8>"
      ]
     },
     "execution_count": 92,
     "metadata": {},
     "output_type": "execute_result"
    },
    {
     "data": {
      "image/png": "[encoded data removed]",
      "text/plain": [
       "<matplotlib.figure.Figure at 0x11a8af400>"
      ]
     },
     "metadata": {},
     "output_type": "display_data"
    }
   ],
   "source": [
    "df3 = pd.DataFrame(np.random.randn(1000, 2), columns=['DATE', 'OILVOLUME']).cumsum()\n",
    "dates = pd.date_range('1955-12-01','2017-01-01', freq ='M')\n",
    "\n",
    "df3['DATE'] = pd.Series(list(range(len(df))))\n",
    "\n",
    "df3.plot(x='DATE', y='OILVOLUME')"
   ]
  },
  {
   "cell_type": "code",
   "execution_count": 101,
   "metadata": {
    "collapsed": false
   },
   "outputs": [
    {
     "ename": "NameError",
     "evalue": "name 'start' is not defined",
     "output_type": "error",
     "traceback": [
      "\u001b[0;31m---------------------------------------------------------------------------\u001b[0m",
      "\u001b[0;31mNameError\u001b[0m                                 Traceback (most recent call last)",
      "\u001b[0;32m<ipython-input-101-7344823b59f9>\u001b[0m in \u001b[0;36m<module>\u001b[0;34m()\u001b[0m\n\u001b[0;32m----> 1\u001b[0;31m \u001b[0mrng\u001b[0m \u001b[0;34m=\u001b[0m \u001b[0mpd\u001b[0m\u001b[0;34m.\u001b[0m\u001b[0mdate_range\u001b[0m\u001b[0;34m(\u001b[0m\u001b[0mstart\u001b[0m\u001b[0;34m,\u001b[0m \u001b[0mend\u001b[0m\u001b[0;34m,\u001b[0m \u001b[0mfreq\u001b[0m\u001b[0;34m=\u001b[0m\u001b[0;34m'BM'\u001b[0m\u001b[0;34m)\u001b[0m\u001b[0;34m\u001b[0m\u001b[0m\n\u001b[0m\u001b[1;32m      2\u001b[0m \u001b[0mts\u001b[0m \u001b[0;34m=\u001b[0m \u001b[0mpd\u001b[0m\u001b[0;34m.\u001b[0m\u001b[0mSeries\u001b[0m\u001b[0;34m(\u001b[0m\u001b[0mnp\u001b[0m\u001b[0;34m.\u001b[0m\u001b[0mrandom\u001b[0m\u001b[0;34m.\u001b[0m\u001b[0mrandn\u001b[0m\u001b[0;34m(\u001b[0m\u001b[0mlen\u001b[0m\u001b[0;34m(\u001b[0m\u001b[0mrng\u001b[0m\u001b[0;34m)\u001b[0m\u001b[0;34m)\u001b[0m\u001b[0;34m,\u001b[0m \u001b[0mindex\u001b[0m\u001b[0;34m=\u001b[0m\u001b[0mrng\u001b[0m\u001b[0;34m)\u001b[0m\u001b[0;34m\u001b[0m\u001b[0m\n\u001b[1;32m      3\u001b[0m \u001b[0;34m\u001b[0m\u001b[0m\n\u001b[1;32m      4\u001b[0m \u001b[0mts\u001b[0m\u001b[0;34m.\u001b[0m\u001b[0mindex\u001b[0m\u001b[0;34m\u001b[0m\u001b[0m\n",
      "\u001b[0;31mNameError\u001b[0m: name 'start' is not defined"
     ]
    }
   ],
   "source": [
    "rng = pd.date_range(start, end, freq='BM')\n",
    "ts = pd.Series(np.random.randn(len(rng)), index=rng)\n",
    "\n",
    "ts.index"
   ]
  },
  {
   "cell_type": "code",
   "execution_count": 106,
   "metadata": {
    "collapsed": false
   },
   "outputs": [
    {
     "ename": "KeyError",
     "evalue": "'DATE'",
     "output_type": "error",
     "traceback": [
      "\u001b[0;31m---------------------------------------------------------------------------\u001b[0m",
      "\u001b[0;31mTypeError\u001b[0m                                 Traceback (most recent call last)",
      "\u001b[0;32mpandas/index.pyx\u001b[0m in \u001b[0;36mpandas.index.IndexEngine.get_loc (pandas/index.c:4279)\u001b[0;34m()\u001b[0m\n",
      "\u001b[0;32mpandas/src/hashtable_class_helper.pxi\u001b[0m in \u001b[0;36mpandas.hashtable.Int64HashTable.get_item (pandas/hashtable.c:8543)\u001b[0;34m()\u001b[0m\n",
      "\u001b[0;31mTypeError\u001b[0m: an integer is required",
      "\nDuring handling of the above exception, another exception occurred:\n",
      "\u001b[0;31mKeyError\u001b[0m                                  Traceback (most recent call last)",
      "\u001b[0;32m<ipython-input-106-0bdcf7941d56>\u001b[0m in \u001b[0;36m<module>\u001b[0;34m()\u001b[0m\n\u001b[0;32m----> 1\u001b[0;31m \u001b[0mdt\u001b[0m\u001b[0;34m.\u001b[0m\u001b[0mtime\u001b[0m \u001b[0;34m=\u001b[0m \u001b[0mpd\u001b[0m\u001b[0;34m.\u001b[0m\u001b[0mto_datetime\u001b[0m\u001b[0;34m(\u001b[0m\u001b[0mdt\u001b[0m\u001b[0;34m[\u001b[0m\u001b[0;34m'DATE'\u001b[0m\u001b[0;34m]\u001b[0m\u001b[0;34m)\u001b[0m\u001b[0;34m\u001b[0m\u001b[0m\n\u001b[0m\u001b[1;32m      2\u001b[0m \u001b[0mdt\u001b[0m\u001b[0;34m.\u001b[0m\u001b[0mset_index\u001b[0m\u001b[0;34m(\u001b[0m\u001b[0;34m[\u001b[0m\u001b[0;34m'DATE'\u001b[0m\u001b[0;34m]\u001b[0m\u001b[0;34m,\u001b[0m\u001b[0minplace\u001b[0m\u001b[0;34m=\u001b[0m\u001b[0;32mTrue\u001b[0m\u001b[0;34m)\u001b[0m\u001b[0;34m\u001b[0m\u001b[0m\n\u001b[1;32m      3\u001b[0m \u001b[0mdt\u001b[0m\u001b[0;34m.\u001b[0m\u001b[0mplot\u001b[0m\u001b[0;34m(\u001b[0m\u001b[0;34m)\u001b[0m\u001b[0;34m\u001b[0m\u001b[0m\n",
      "\u001b[0;32m/Users/Priya/anaconda/lib/python3.6/site-packages/pandas/core/series.py\u001b[0m in \u001b[0;36m__getitem__\u001b[0;34m(self, key)\u001b[0m\n\u001b[1;32m    601\u001b[0m         \u001b[0mkey\u001b[0m \u001b[0;34m=\u001b[0m \u001b[0mcom\u001b[0m\u001b[0;34m.\u001b[0m\u001b[0m_apply_if_callable\u001b[0m\u001b[0;34m(\u001b[0m\u001b[0mkey\u001b[0m\u001b[0;34m,\u001b[0m \u001b[0mself\u001b[0m\u001b[0;34m)\u001b[0m\u001b[0;34m\u001b[0m\u001b[0m\n\u001b[1;32m    602\u001b[0m         \u001b[0;32mtry\u001b[0m\u001b[0;34m:\u001b[0m\u001b[0;34m\u001b[0m\u001b[0m\n\u001b[0;32m--> 603\u001b[0;31m             \u001b[0mresult\u001b[0m \u001b[0;34m=\u001b[0m \u001b[0mself\u001b[0m\u001b[0;34m.\u001b[0m\u001b[0mindex\u001b[0m\u001b[0;34m.\u001b[0m\u001b[0mget_value\u001b[0m\u001b[0;34m(\u001b[0m\u001b[0mself\u001b[0m\u001b[0;34m,\u001b[0m \u001b[0mkey\u001b[0m\u001b[0;34m)\u001b[0m\u001b[0;34m\u001b[0m\u001b[0m\n\u001b[0m\u001b[1;32m    604\u001b[0m \u001b[0;34m\u001b[0m\u001b[0m\n\u001b[1;32m    605\u001b[0m             \u001b[0;32mif\u001b[0m \u001b[0;32mnot\u001b[0m \u001b[0mis_scalar\u001b[0m\u001b[0;34m(\u001b[0m\u001b[0mresult\u001b[0m\u001b[0;34m)\u001b[0m\u001b[0;34m:\u001b[0m\u001b[0;34m\u001b[0m\u001b[0m\n",
      "\u001b[0;32m/Users/Priya/anaconda/lib/python3.6/site-packages/pandas/indexes/base.py\u001b[0m in \u001b[0;36mget_value\u001b[0;34m(self, series, key)\u001b[0m\n\u001b[1;32m   2167\u001b[0m         \u001b[0;32mtry\u001b[0m\u001b[0;34m:\u001b[0m\u001b[0;34m\u001b[0m\u001b[0m\n\u001b[1;32m   2168\u001b[0m             return self._engine.get_value(s, k,\n\u001b[0;32m-> 2169\u001b[0;31m                                           tz=getattr(series.dtype, 'tz', None))\n\u001b[0m\u001b[1;32m   2170\u001b[0m         \u001b[0;32mexcept\u001b[0m \u001b[0mKeyError\u001b[0m \u001b[0;32mas\u001b[0m \u001b[0me1\u001b[0m\u001b[0;34m:\u001b[0m\u001b[0;34m\u001b[0m\u001b[0m\n\u001b[1;32m   2171\u001b[0m             \u001b[0;32mif\u001b[0m \u001b[0mlen\u001b[0m\u001b[0;34m(\u001b[0m\u001b[0mself\u001b[0m\u001b[0;34m)\u001b[0m \u001b[0;34m>\u001b[0m \u001b[0;36m0\u001b[0m \u001b[0;32mand\u001b[0m \u001b[0mself\u001b[0m\u001b[0;34m.\u001b[0m\u001b[0minferred_type\u001b[0m \u001b[0;32min\u001b[0m \u001b[0;34m[\u001b[0m\u001b[0;34m'integer'\u001b[0m\u001b[0;34m,\u001b[0m \u001b[0;34m'boolean'\u001b[0m\u001b[0;34m]\u001b[0m\u001b[0;34m:\u001b[0m\u001b[0;34m\u001b[0m\u001b[0m\n",
      "\u001b[0;32mpandas/index.pyx\u001b[0m in \u001b[0;36mpandas.index.IndexEngine.get_value (pandas/index.c:3557)\u001b[0;34m()\u001b[0m\n",
      "\u001b[0;32mpandas/index.pyx\u001b[0m in \u001b[0;36mpandas.index.IndexEngine.get_value (pandas/index.c:3240)\u001b[0;34m()\u001b[0m\n",
      "\u001b[0;32mpandas/index.pyx\u001b[0m in \u001b[0;36mpandas.index.IndexEngine.get_loc (pandas/index.c:4363)\u001b[0;34m()\u001b[0m\n",
      "\u001b[0;31mKeyError\u001b[0m: 'DATE'"
     ]
    }
   ],
   "source": [
    "dt.time = pd.to_datetime(dt['DATE'])\n",
    "dt.set_index(['DATE'],inplace=True)\n",
    "dt.plot()"
   ]
  },
  {
   "cell_type": "code",
   "execution_count": 111,
   "metadata": {
    "collapsed": false
   },
   "outputs": [
    {
     "name": "stderr",
     "output_type": "stream",
     "text": [
      "/Users/Priya/anaconda/lib/python3.6/site-packages/ipykernel/__main__.py:1: FutureWarning: how in .resample() is deprecated\n",
      "the new syntax is .resample(...)..apply(<func>)\n",
      "  if __name__ == '__main__':\n"
     ]
    },
    {
     "data": {
      "text/plain": [
       "<matplotlib.axes._subplots.AxesSubplot at 0x11a289b38>"
      ]
     },
     "execution_count": 111,
     "metadata": {},
     "output_type": "execute_result"
    },
    {
     "data": {
      "image/png": "[encoded data removed]",
      "text/plain": [
       "<matplotlib.figure.Figure at 0x11a05dc88>"
      ]
     },
     "metadata": {},
     "output_type": "display_data"
    },
    {
     "data": {
      "image/png": "[encoded data removed]",
      "text/plain": [
       "<matplotlib.figure.Figure at 0x11a090ba8>"
      ]
     },
     "metadata": {},
     "output_type": "display_data"
    }
   ],
   "source": [
    "ov_mm = ov.resample(\"A\", how=['mean', np.min, np.max])\n",
    "ov_mm['1955':'2017'].plot(subplots=True)\n",
    "ov_mm['1955':'2017'].plot()"
   ]
  },
  {
   "cell_type": "code",
   "execution_count": null,
   "metadata": {
    "collapsed": true
   },
   "outputs": [],
   "source": []
  },
  {
   "cell_type": "code",
   "execution_count": null,
   "metadata": {
    "collapsed": true
   },
   "outputs": [],
   "source": []
  },
  {
   "cell_type": "code",
   "execution_count": null,
   "metadata": {
    "collapsed": true
   },
   "outputs": [],
   "source": []
  },
  {
   "cell_type": "code",
   "execution_count": null,
   "metadata": {
    "collapsed": true
   },
   "outputs": [],
   "source": []
  },
  {
   "cell_type": "code",
   "execution_count": null,
   "metadata": {
    "collapsed": true
   },
   "outputs": [],
   "source": []
  },
  {
   "cell_type": "code",
   "execution_count": null,
   "metadata": {
    "collapsed": true
   },
   "outputs": [],
   "source": []
  },
  {
   "cell_type": "code",
   "execution_count": null,
   "metadata": {
    "collapsed": true
   },
   "outputs": [],
   "source": []
  },
  {
   "cell_type": "code",
   "execution_count": null,
   "metadata": {
    "collapsed": true
   },
   "outputs": [],
   "source": []
  },
  {
   "cell_type": "code",
   "execution_count": null,
   "metadata": {
    "collapsed": true
   },
   "outputs": [],
   "source": []
  }
 ],
 "metadata": {
  "kernelspec": {
   "display_name": "Python 3",
   "language": "python",
   "name": "python3"
  },
  "language_info": {
   "codemirror_mode": {
    "name": "ipython",
    "version": 3
   },
   "file_extension": ".py",
   "mimetype": "text/x-python",
   "name": "python",
   "nbconvert_exporter": "python",
   "pygments_lexer": "ipython3",
   "version": "3.6.0"
  }
 },
 "nbformat": 4,
 "nbformat_minor": 2
}
